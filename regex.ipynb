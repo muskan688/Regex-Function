{
 "cells": [
  {
   "cell_type": "code",
   "execution_count": 1,
   "id": "6d8507c6-d4df-4ec1-a48d-e1694243a6bc",
   "metadata": {
    "collapsed": true,
    "jupyter": {
     "outputs_hidden": true
    }
   },
   "outputs": [],
   "source": [
    "import re\n"
   ]
  },
  {
   "cell_type": "code",
   "execution_count": 5,
   "id": "6bea66ee-0eea-4767-9712-babfa8036dcd",
   "metadata": {
    "collapsed": true,
    "jupyter": {
     "outputs_hidden": true
    }
   },
   "outputs": [
    {
     "name": "stderr",
     "output_type": "stream",
     "text": [
      "<>:3: SyntaxWarning: invalid escape sequence '\\('\n",
      "<>:3: SyntaxWarning: invalid escape sequence '\\('\n",
      "C:\\Users\\ME\\AppData\\Local\\Temp\\ipykernel_16092\\2715416975.py:3: SyntaxWarning: invalid escape sequence '\\('\n",
      "  pattern = '\\(\\d{3}\\)-\\d{3}-\\d{4}|\\d{10}'\n"
     ]
    },
    {
     "data": {
      "text/plain": [
       "['8877665544', '(999)-333-7777']"
      ]
     },
     "execution_count": 5,
     "metadata": {},
     "output_type": "execute_result"
    }
   ],
   "source": [
    "text ='''Elon musk's phone number is 8877665544, call him if you have questionon dogecoin. Tesla's revenue is 40 million. Tesla's CFO number is (999)-333-7777'''\n",
    "\n",
    "pattern = '\\(\\d{3}\\)-\\d{3}-\\d{4}|\\d{10}'\n",
    "\n",
    "matches = re.findall(pattern, text)\n",
    "matches"
   ]
  },
  {
   "cell_type": "code",
   "execution_count": 11,
   "id": "2a30ef26-1f37-461f-b763-c0d29b7de41b",
   "metadata": {},
   "outputs": [
    {
     "name": "stderr",
     "output_type": "stream",
     "text": [
      "<>:20: SyntaxWarning: invalid escape sequence '\\d'\n",
      "<>:20: SyntaxWarning: invalid escape sequence '\\d'\n",
      "C:\\Users\\ME\\AppData\\Local\\Temp\\ipykernel_16092\\2945430082.py:20: SyntaxWarning: invalid escape sequence '\\d'\n",
      "  pattern = 'Note \\d – ([^\\n]*)'\n"
     ]
    },
    {
     "data": {
      "text/plain": [
       "['Overview', 'Summary of Significant Accounting Policies']"
      ]
     },
     "execution_count": 11,
     "metadata": {},
     "output_type": "execute_result"
    }
   ],
   "source": [
    "text = '''Note 1 – Overview\n",
    "Tesla, Inc. (“Tesla”, the “Company”, “we”, “us” or “our”) was incorporated in the State of Delaware on July 1, 2003. We design, develop, manufacture and sell high-performance fully electric vehicles and design, manufacture, install and sell solar energy generation and energy storage\n",
    "products. Our Chief Executive Officer, as the chief operating decision maker (“CODM”), organizes our company, manages resource allocations and measures performance among two operating and reportable segments: (i) automotive and (ii) energy generation and storage.\n",
    "Beginning in the first quarter of 2021, there has been a trend in many parts of the world of increasing availability and administration of vaccines\n",
    "against COVID-19, as well as an easing of restrictions on social, business, travel and government activities and functions. On the other hand, infection\n",
    "rates and regulations continue to fluctuate in various regions and there are ongoing global impacts resulting from the pandemic, including challenges\n",
    "and increases in costs for logistics and supply chains, such as increased port congestion, intermittent supplier delays and a shortfall of semiconductor\n",
    "supply. We have also previously been affected by temporary manufacturing closures, employment and compensation adjustments and impediments to\n",
    "administrative activities supporting our product deliveries and deployments.\n",
    "Note 2 – Summary of Significant Accounting Policies\n",
    "Unaudited Interim Financial Statements\n",
    "The consolidated balance sheet as of September 30, 2021, the consolidated statements of operations, the consolidated statements of\n",
    "comprehensive income, the consolidated statements of redeemable noncontrolling interests and equity for the three and nine months ended September\n",
    "30, 2021 and 2020 and the consolidated statements of cash flows for the nine months ended September 30, 2021 and 2020, as well as other information\n",
    "disclosed in the accompanying notes, are unaudited. The consolidated balance sheet as of December 31, 2020 was derived from the audited\n",
    "consolidated financial statements as of that date. The interim consolidated financial statements and the accompanying notes should be read in\n",
    "conjunction with the annual consolidated financial statements and the accompanying notes contained in our Annual Report on Form 10-K for the year\n",
    "ended December 31, 2020\n",
    "'''\n",
    "pattern = 'Note \\d – ([^\\n]*)'\n",
    "re.findall(pattern, text)\n"
   ]
  },
  {
   "cell_type": "code",
   "execution_count": 19,
   "id": "4e95dcfc-b7fb-4e46-9277-4ce92bc67151",
   "metadata": {},
   "outputs": [
    {
     "name": "stdout",
     "output_type": "stream",
     "text": [
      "['FY2021 Q1', 'fy2020 Q4']\n",
      "['2021 Q1', '2020 Q4']\n"
     ]
    },
    {
     "name": "stderr",
     "output_type": "stream",
     "text": [
      "<>:6: SyntaxWarning: invalid escape sequence '\\d'\n",
      "<>:7: SyntaxWarning: invalid escape sequence '\\d'\n",
      "<>:6: SyntaxWarning: invalid escape sequence '\\d'\n",
      "<>:7: SyntaxWarning: invalid escape sequence '\\d'\n",
      "C:\\Users\\ME\\AppData\\Local\\Temp\\ipykernel_16092\\2683299251.py:6: SyntaxWarning: invalid escape sequence '\\d'\n",
      "  pattern = 'FY\\d{4} Q[1-4]'\n",
      "C:\\Users\\ME\\AppData\\Local\\Temp\\ipykernel_16092\\2683299251.py:7: SyntaxWarning: invalid escape sequence '\\d'\n",
      "  pattern1= 'FY(\\d{4} Q[1-4])'\n"
     ]
    }
   ],
   "source": [
    "text = ''' \n",
    "The gross cost of operating lease vehicle in FY2021 Q1 was $4.85 billion.\n",
    " In previous quarter i.e. fy2020 Q4 it was $3 billion.\n",
    "FY2030 Q5\n",
    "'''\n",
    "pattern = 'FY\\d{4} Q[1-4]'\n",
    "pattern1= 'FY(\\d{4} Q[1-4])'\n",
    "a = re.findall(pattern, text, flags= re.IGNORECASE)\n",
    "b = re.findall(pattern1, text, flags= re.IGNORECASE)\n",
    "print (a)\n",
    "print()"
   ]
  },
  {
   "cell_type": "code",
   "execution_count": 25,
   "id": "85afee63-cadc-4c55-8b0e-a5d0454a1012",
   "metadata": {},
   "outputs": [
    {
     "name": "stdout",
     "output_type": "stream",
     "text": [
      "['$4.85', '$3']\n",
      "['4.85', '3']\n"
     ]
    },
    {
     "name": "stderr",
     "output_type": "stream",
     "text": [
      "<>:6: SyntaxWarning: invalid escape sequence '\\$'\n",
      "<>:7: SyntaxWarning: invalid escape sequence '\\$'\n",
      "<>:6: SyntaxWarning: invalid escape sequence '\\$'\n",
      "<>:7: SyntaxWarning: invalid escape sequence '\\$'\n",
      "C:\\Users\\ME\\AppData\\Local\\Temp\\ipykernel_16092\\2426027877.py:6: SyntaxWarning: invalid escape sequence '\\$'\n",
      "  pattern = '\\$[0-9\\.]+'\n",
      "C:\\Users\\ME\\AppData\\Local\\Temp\\ipykernel_16092\\2426027877.py:7: SyntaxWarning: invalid escape sequence '\\$'\n",
      "  pattern1 = '\\$([0-9\\.]+)'\n"
     ]
    }
   ],
   "source": [
    "text = ''' \n",
    "The gross cost of operating lease vehicle in FY2021 Q1 was $4.85 billion.\n",
    " In previous quarter i.e. fy2020 Q4 it was $3 billion.\n",
    "FY2030 Q5\n",
    "'''\n",
    "pattern = '\\$[0-9\\.]+'\n",
    "pattern1 = '\\$([0-9\\.]+)'\n",
    "\n",
    "a = re.findall(pattern, text)\n",
    "b = re.findall(pattern1, text)\n",
    "print(a)\n",
    "print(b)"
   ]
  },
  {
   "cell_type": "code",
   "execution_count": 37,
   "id": "1443de43-9e66-47fa-9718-f4eebc52ca29",
   "metadata": {},
   "outputs": [
    {
     "name": "stderr",
     "output_type": "stream",
     "text": [
      "<>:5: SyntaxWarning: invalid escape sequence '\\d'\n",
      "<>:5: SyntaxWarning: invalid escape sequence '\\d'\n",
      "C:\\Users\\ME\\AppData\\Local\\Temp\\ipykernel_16092\\249893069.py:5: SyntaxWarning: invalid escape sequence '\\d'\n",
      "  pattern = 'FY(\\d{4} Q[1-4])[^\\$]+\\$([0-9\\.]+)'\n"
     ]
    },
    {
     "data": {
      "text/plain": [
       "<re.Match object; span=(45, 64), match='FY2021 Q1 was $4.85'>"
      ]
     },
     "execution_count": 37,
     "metadata": {},
     "output_type": "execute_result"
    }
   ],
   "source": [
    "text = '''The gross cost of operating lease vehicle in FY2021 Q1 was $4.85 billion.\n",
    " In previous quarter i.e. FY2020 Q4 it was $3 billion.\n",
    "FY2030 Q5\n",
    "'''\n",
    "pattern = 'FY(\\d{4} Q[1-4])[^\\$]+\\$([0-9\\.]+)'\n",
    "matches =re.search(pattern, text)\n",
    "matches"
   ]
  },
  {
   "cell_type": "code",
   "execution_count": 39,
   "id": "670bead4-9bb5-40e3-acb8-1625703c1c94",
   "metadata": {},
   "outputs": [
    {
     "data": {
      "text/plain": [
       "('2021 Q1', '4.85')"
      ]
     },
     "execution_count": 39,
     "metadata": {},
     "output_type": "execute_result"
    }
   ],
   "source": [
    "matches.groups()"
   ]
  },
  {
   "cell_type": "code",
   "execution_count": null,
   "id": "f462ff8c-4156-43bf-93b5-bba1de8d4525",
   "metadata": {},
   "outputs": [],
   "source": []
  }
 ],
 "metadata": {
  "kernelspec": {
   "display_name": "Python 3 (ipykernel)",
   "language": "python",
   "name": "python3"
  },
  "language_info": {
   "codemirror_mode": {
    "name": "ipython",
    "version": 3
   },
   "file_extension": ".py",
   "mimetype": "text/x-python",
   "name": "python",
   "nbconvert_exporter": "python",
   "pygments_lexer": "ipython3",
   "version": "3.12.4"
  }
 },
 "nbformat": 4,
 "nbformat_minor": 5
}
